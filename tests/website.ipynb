{
 "cells": [
  {
   "cell_type": "code",
   "execution_count": 20,
   "metadata": {},
   "outputs": [],
   "source": [
    "import requests\n",
    "import re\n",
    "from bs4 import BeautifulSoup\n",
    "from nltk.tokenize import TweetTokenizer, RegexpTokenizer"
   ]
  },
  {
   "cell_type": "code",
   "execution_count": 3,
   "metadata": {},
   "outputs": [],
   "source": [
    "url = 'https://student.kedge.edu/contact'"
   ]
  },
  {
   "cell_type": "code",
   "execution_count": 4,
   "metadata": {},
   "outputs": [],
   "source": [
    "response = requests.get(url, headers={'User-Agent': 'Mozilla/5.0 (Windows NT 10.0; Win64; x64) AppleWebKit/537.36 (KHTML, like Gecko) Chrome/112.0.0.0 Safari/537.36 Edg/112.0.1722.64'})"
   ]
  },
  {
   "cell_type": "code",
   "execution_count": 32,
   "metadata": {},
   "outputs": [],
   "source": [
    "soup = BeautifulSoup(response.content, 'html.parser')"
   ]
  },
  {
   "cell_type": "code",
   "execution_count": 33,
   "metadata": {},
   "outputs": [],
   "source": [
    "instance = TweetTokenizer()\n",
    "tokens = instance.tokenize(soup.text)\n"
   ]
  },
  {
   "cell_type": "code",
   "execution_count": 34,
   "metadata": {},
   "outputs": [],
   "source": [
    "emails = set([token for token in tokens if '@' in token])"
   ]
  },
  {
   "cell_type": "code",
   "execution_count": 35,
   "metadata": {},
   "outputs": [
    {
     "data": {
      "text/plain": [
       "{'ex@example.com', 'protectiondesdonnees@kedgebs.com'}"
      ]
     },
     "execution_count": 35,
     "metadata": {},
     "output_type": "execute_result"
    }
   ],
   "source": [
    "links = soup.find_all('a')\n",
    "for link in links:\n",
    "    href = link.attrs.get('href', None)\n",
    "\n",
    "    if href is None:\n",
    "        continue\n",
    "\n",
    "    if href.startswith('mailto:'):\n",
    "        email = href.removeprefix('mailto:')\n",
    "        emails.add(email)\n",
    "\n",
    "emails"
   ]
  },
  {
   "cell_type": "code",
   "execution_count": 40,
   "metadata": {},
   "outputs": [
    {
     "name": "stdout",
     "output_type": "stream",
     "text": [
      "[('+33', '(0)5 56 84 55 55\\n'), ('+33', '(0)4 91 82 78 00\\n'), ('+33', '(0)1 87 89 94 50\\n'), ('+33', '(0)4 94 91 82 50\\n'), ('+86', '(0)21 80238533\\n'), ('+33', '(0)5 59 46 58 58\\n'), ('+33', '(0)4 86 55 92 12\\n'), ('+33', '(0)4 95 30 00 00\\n'), ('+86', '(0)21 52780563\\n')]\n"
     ]
    }
   ],
   "source": [
    "instance = RegexpTokenizer(r'(?P<indicatif>\\+\\d+)\\s?(?P<telephone>\\(?\\d+\\)?(?:\\d+\\s?)+)')\n",
    "tokens = instance.tokenize(soup.text)\n",
    "tokens = list(filter(lambda x: len(x[1]) > 3, tokens))\n",
    "# def parse_telephone(token):\n",
    "#     result = re.search(r'(?P<indicatif>\\+\\d+)\\s?(?P<telephone>\\(?\\d+\\)?(?:\\d+\\s?)+)', token)\n",
    "#     if result:\n",
    "#         items = result.groupdict()\n",
    "#         return f\"{items['indicatif']} {items['telephone']}\"\n",
    "#     return None \n",
    "\n",
    "# phone_numbers = list(filter(lambda x: x is not None, map(parse_telephone, tokens)))\n",
    "# phone_numbers\n",
    "print(tokens)"
   ]
  },
  {
   "cell_type": "code",
   "execution_count": 37,
   "metadata": {},
   "outputs": [
    {
     "data": {
      "text/plain": [
       "[('+33', '(0)5 56 84 55 55\\n'),\n",
       " ('+33', '(0)4 91 82 78 00\\n'),\n",
       " ('+33', '(0)1 87 89 94 50\\n'),\n",
       " ('+33', '(0)4 94 91 82 50\\n'),\n",
       " ('+86', '(0)21 80238533\\n'),\n",
       " ('+33', '(0)5 59 46 58 58\\n'),\n",
       " ('+33', '(0)4 86 55 92 12\\n'),\n",
       " ('+33', '(0)4 95 30 00 00\\n'),\n",
       " ('+86', '(0)21 52780563\\n'),\n",
       " ('+3', '51 '),\n",
       " ('+3', '58 '),\n",
       " ('+3', '55 '),\n",
       " ('+2', '13 '),\n",
       " ('+3', '76 '),\n",
       " ('+2', '44 '),\n",
       " ('+12', '64 '),\n",
       " ('+12', '68 '),\n",
       " ('+5', '99 '),\n",
       " ('+9', '66 '),\n",
       " ('+3', '74 '),\n",
       " ('+2', '97 '),\n",
       " ('+2', '47 '),\n",
       " ('+9', '94 '),\n",
       " ('+12', '42 '),\n",
       " ('+9', '73 '),\n",
       " ('+8', '80 '),\n",
       " ('+12', '46 '),\n",
       " ('+3', '75 '),\n",
       " ('+5', '01 '),\n",
       " ('+2', '29 '),\n",
       " ('+14', '41 '),\n",
       " ('+9', '75 '),\n",
       " ('+5', '91 '),\n",
       " ('+3', '87 '),\n",
       " ('+2', '67 '),\n",
       " ('+6', '73 '),\n",
       " ('+3', '59 '),\n",
       " ('+2', '26 '),\n",
       " ('+2', '57 '),\n",
       " ('+8', '55 '),\n",
       " ('+2', '37 '),\n",
       " ('+2', '38 '),\n",
       " ('+13', '45 '),\n",
       " ('+2', '36 '),\n",
       " ('+3', '57 '),\n",
       " ('+2', '69 '),\n",
       " ('+2', '42 '),\n",
       " ('+2', '43 '),\n",
       " ('+6', '82 '),\n",
       " ('+8', '50 '),\n",
       " ('+5', '06 '),\n",
       " ('+2', '25 '),\n",
       " ('+3', '85 '),\n",
       " ('+2', '46 '),\n",
       " ('+2', '53 '),\n",
       " ('+18', '09 '),\n",
       " ('+17', '67 '),\n",
       " ('+5', '03 '),\n",
       " ('+9', '71 '),\n",
       " ('+5', '93 '),\n",
       " ('+2', '91 '),\n",
       " ('+3', '72 '),\n",
       " ('+2', '51 '),\n",
       " ('+5', '00 '),\n",
       " ('+2', '98 '),\n",
       " ('+6', '79 '),\n",
       " ('+3', '58 '),\n",
       " ('+2', '41 '),\n",
       " ('+2', '20 '),\n",
       " ('+9', '95 '),\n",
       " ('+2', '33 '),\n",
       " ('+3', '50 '),\n",
       " ('+14', '73 '),\n",
       " ('+2', '99 '),\n",
       " ('+5', '90 '),\n",
       " ('+6', '71 '),\n",
       " ('+5', '02 '),\n",
       " ('+2', '24 '),\n",
       " ('+2', '40 '),\n",
       " ('+2', '45 '),\n",
       " ('+5', '94 '),\n",
       " ('+5', '92 '),\n",
       " ('+5', '09 '),\n",
       " ('+18', '08 '),\n",
       " ('+5', '04 '),\n",
       " ('+8', '52 '),\n",
       " ('+9', '64 '),\n",
       " ('+3', '53 '),\n",
       " ('+3', '54 '),\n",
       " ('+9', '72 '),\n",
       " ('+3', '90 '),\n",
       " ('+18', '76 '),\n",
       " ('+9', '62 '),\n",
       " ('+2', '54 '),\n",
       " ('+9', '96 '),\n",
       " ('+6', '86 '),\n",
       " ('+9', '65 '),\n",
       " ('+8', '56 '),\n",
       " ('+2', '66 '),\n",
       " ('+3', '71 '),\n",
       " ('+9', '61 '),\n",
       " ('+2', '31 '),\n",
       " ('+2', '18 '),\n",
       " ('+4', '23 '),\n",
       " ('+3', '70 '),\n",
       " ('+3', '52 '),\n",
       " ('+8', '53 '),\n",
       " ('+3', '89 '),\n",
       " ('+2', '61 '),\n",
       " ('+3', '51 '),\n",
       " ('+2', '65 '),\n",
       " ('+9', '60 '),\n",
       " ('+2', '23 '),\n",
       " ('+3', '56 '),\n",
       " ('+6', '70 '),\n",
       " ('+5', '90 '),\n",
       " ('+5', '96 '),\n",
       " ('+2', '12 '),\n",
       " ('+6', '92 '),\n",
       " ('+2', '30 '),\n",
       " ('+2', '22 '),\n",
       " ('+2', '69 '),\n",
       " ('+6', '91 '),\n",
       " ('+3', '73 '),\n",
       " ('+3', '77 '),\n",
       " ('+9', '76 '),\n",
       " ('+16', '64 '),\n",
       " ('+2', '58 '),\n",
       " ('+2', '64 '),\n",
       " ('+6', '74 '),\n",
       " ('+9', '77 '),\n",
       " ('+5', '05 '),\n",
       " ('+2', '27 '),\n",
       " ('+2', '34 '),\n",
       " ('+6', '83 '),\n",
       " ('+67', '23 '),\n",
       " ('+6', '87 '),\n",
       " ('+9', '68 '),\n",
       " ('+2', '56 '),\n",
       " ('+6', '80 '),\n",
       " ('+9', '70 '),\n",
       " ('+5', '07 '),\n",
       " ('+6', '75 '),\n",
       " ('+5', '95 '),\n",
       " ('+6', '89 '),\n",
       " ('+3', '51 '),\n",
       " ('+17', '87 '),\n",
       " ('+9', '74 '),\n",
       " ('+2', '62 '),\n",
       " ('+2', '30 '),\n",
       " ('+2', '50 '),\n",
       " ('+5', '90 '),\n",
       " ('+2', '90 '),\n",
       " ('+17', '58 '),\n",
       " ('+18', '69 '),\n",
       " ('+3', '78 '),\n",
       " ('+5', '90 '),\n",
       " ('+17', '84 '),\n",
       " ('+5', '90 '),\n",
       " ('+6', '77 '),\n",
       " ('+6', '84 '),\n",
       " ('+6', '85 '),\n",
       " ('+2', '39 '),\n",
       " ('+2', '21 '),\n",
       " ('+2', '48 '),\n",
       " ('+2', '32 '),\n",
       " ('+4', '21 '),\n",
       " ('+3', '86 '),\n",
       " ('+2', '52 '),\n",
       " ('+2', '49 '),\n",
       " ('+5', '97 '),\n",
       " ('+2', '68 '),\n",
       " ('+9', '63 '),\n",
       " ('+9', '92 '),\n",
       " ('+8', '86 '),\n",
       " ('+2', '55 '),\n",
       " ('+2', '35 '),\n",
       " ('+4', '20 '),\n",
       " ('+6', '70 '),\n",
       " ('+2', '28 '),\n",
       " ('+6', '90 '),\n",
       " ('+6', '76 '),\n",
       " ('+18', '68 '),\n",
       " ('+2', '16 '),\n",
       " ('+9', '93 '),\n",
       " ('+16', '49 '),\n",
       " ('+6', '88 '),\n",
       " ('+3', '80 '),\n",
       " ('+5', '98 '),\n",
       " ('+6', '78 '),\n",
       " ('+3', '79 '),\n",
       " ('+13', '40 '),\n",
       " ('+12', '84 '),\n",
       " ('+9', '67 '),\n",
       " ('+3', '81 '),\n",
       " ('+2', '60 '),\n",
       " ('+2', '63 ')]"
      ]
     },
     "execution_count": 37,
     "metadata": {},
     "output_type": "execute_result"
    }
   ],
   "source": [
    "tokens"
   ]
  },
  {
   "cell_type": "code",
   "execution_count": null,
   "metadata": {},
   "outputs": [],
   "source": []
  }
 ],
 "metadata": {
  "kernelspec": {
   "display_name": "Python 3",
   "language": "python",
   "name": "python3"
  },
  "language_info": {
   "codemirror_mode": {
    "name": "ipython",
    "version": 3
   },
   "file_extension": ".py",
   "mimetype": "text/x-python",
   "name": "python",
   "nbconvert_exporter": "python",
   "pygments_lexer": "ipython3",
   "version": "3.11.1"
  },
  "orig_nbformat": 4
 },
 "nbformat": 4,
 "nbformat_minor": 2
}
