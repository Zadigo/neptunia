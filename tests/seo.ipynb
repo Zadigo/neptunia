{
 "cells": [
  {
   "cell_type": "code",
   "execution_count": 1,
   "metadata": {},
   "outputs": [],
   "source": [
    "import requests\n",
    "from bs4 import BeautifulSoup"
   ]
  },
  {
   "cell_type": "code",
   "execution_count": 2,
   "metadata": {},
   "outputs": [],
   "source": [
    "response = requests.get('https://www.accenture.com/us-en', headers={'USER-AGENT': 'Lucile/Search Engine'})"
   ]
  },
  {
   "cell_type": "code",
   "execution_count": 3,
   "metadata": {},
   "outputs": [],
   "source": [
    "soup = BeautifulSoup(response.content, 'html.parser')"
   ]
  },
  {
   "attachments": {},
   "cell_type": "markdown",
   "metadata": {},
   "source": [
    "## Title\n",
    "\n",
    "The title of page should be less than 60 characters or 70 characters at most"
   ]
  },
  {
   "cell_type": "code",
   "execution_count": 5,
   "metadata": {},
   "outputs": [
    {
     "data": {
      "text/plain": [
       "<title>Accenture | Let There Be Change</title>"
      ]
     },
     "execution_count": 5,
     "metadata": {},
     "output_type": "execute_result"
    }
   ],
   "source": [
    "title = soup.find('title')\n",
    "title"
   ]
  },
  {
   "attachments": {},
   "cell_type": "markdown",
   "metadata": {},
   "source": [
    "## Description\n",
    "\n",
    "Description should be less than 150 characters. We can also check for `itemprop` type meta tags."
   ]
  },
  {
   "cell_type": "code",
   "execution_count": 7,
   "metadata": {},
   "outputs": [
    {
     "data": {
      "text/plain": [
       "<meta content=\"Accenture embraces the power of change to create 360° value &amp; shared success in the U.S. for our clients, people, shareholders, partners and communities. Read more.\" name=\"description\"/>"
      ]
     },
     "execution_count": 7,
     "metadata": {},
     "output_type": "execute_result"
    }
   ],
   "source": [
    "description = soup.find('meta', attrs={'name': 'description'})\n",
    "description"
   ]
  },
  {
   "cell_type": "code",
   "execution_count": 13,
   "metadata": {},
   "outputs": [
    {
     "name": "stdout",
     "output_type": "stream",
     "text": [
      "<meta content=\"Let There Be Change | Accenture\" itemprop=\"name\"/>\n",
      "<meta content=\"Accenture embraces the power of change to create 360° value &amp; shared success in the U.S. for our clients, people, shareholders, partners and communities. Read more.\" itemprop=\"description\"/>\n"
     ]
    }
   ],
   "source": [
    "itemprop_name = soup.find('meta', attrs={'itemprop': 'name'})\n",
    "itemprop_description = soup.find('meta', attrs={'itemprop': 'description'})\n",
    "\n",
    "print(itemprop_name)\n",
    "print(itemprop_description)\n"
   ]
  },
  {
   "attachments": {},
   "cell_type": "markdown",
   "metadata": {},
   "source": [
    "## Structured data\n",
    "\n",
    "The page should have structured data tags"
   ]
  },
  {
   "cell_type": "code",
   "execution_count": 15,
   "metadata": {},
   "outputs": [
    {
     "data": {
      "text/plain": [
       "[<script type=\"application/ld+json\">\n",
       " \t\t{\n",
       "   \"@context\" : \"https://schema.org\",\n",
       "   \"@type\" : \"Organization\",\n",
       "   \"name\" : \"Let There Be Change | Accenture\",\n",
       "   \"url\" : \"https://www.accenture.com/us-en/\",\n",
       "   \"logo\" : \"/content/experience-fragments/acom/us-en/header/global-header/master/_jcr_content/root/globalheader/logo.coreimg.png/1678919291529/acc-logo-black-purple-rgb.png\",\n",
       "   \"description\" : \" Accenture embraces the power of change to create 360° value \\\\x26 shared success in the U.S. for our clients, people, shareholders, partners and communities.\",\n",
       "   \"contactPoint\" : {\n",
       "     \"@type\" : \"ContactPoint\",\n",
       "     \"telephone\" : \"+1 312 842 5012\",\n",
       "     \"contactType\" : \"customer service\"\n",
       "   },\n",
       "   \"sameAs\" : [ \"https://www.linkedin.com/company/accenture\", \"https://twitter.com/Accenture_US\", \"https://www.facebook.com/AccentureUS\", \"https://www.instagram.com/accentureus/\", \"https://www.youtube.com/accenture\", \"https://www.youtube.com/accentureus\" ]\n",
       " }\n",
       " \t</script>]"
      ]
     },
     "execution_count": 15,
     "metadata": {},
     "output_type": "execute_result"
    }
   ],
   "source": [
    "structured_data = soup.find_all('script', attrs={'type': 'application/ld+json'})\n"
   ]
  },
  {
   "cell_type": "code",
   "execution_count": 96,
   "metadata": {},
   "outputs": [
    {
     "name": "stdout",
     "output_type": "stream",
     "text": [
      "{'https://www.accenture.com/us-en/insights/cloud/edge-computing-index', 'https://www.accenture.com/us-en/support/accessibility-statement', 'https://www.accenture.com/hu-en', 'https://www.accenture.com/za-en', 'https://www.accenture.com/us-en/careers/local/military-veterans', 'https://www.accenture.com/lu-en', 'https://www.accenture.com/ch-en', 'https://www.accenture.com/us-en/industries/public-service-index', 'https://www.accenture.com/it-it', 'https://www.accenture.com/us-en/case-studiesnew/song/signet-jewelers-virtual-shopping-experience', 'https://www.accenture.com/us-en/careers/explore-careers/area-of-interest/technology-careers', 'https://www.accenture.com/us-en/about/location-index', 'https://www.accenture.com/content/acom/us-en/about/contact-us.html', 'https://www.accenture.com/cl-es', 'https://www.accenture.com/us-en/insights/5g-index', 'https://www.accenture.com/us-en/insights/voices', 'https://www.accenture.com/us-en/careers/explore-careers/area-of-interest/journey-to-accenture', 'https://www.accenture.com/jp-ja', 'https://www.accenture.com/us-en/insights/consulting/total-enterprise-reinvention', 'https://www.accenture.com/us-en/services/technology/ecosystem-services', 'https://www.accenture.com/us-en/industries/high-tech-index', 'https://www.accenture.com/us-en/services/cfo-and-enterprise-value-index', 'https://www.accenture.com/us-en/services/supply-chain-management-and-operations-index', 'https://www.accenture.com/us-en/industries/energy-index', 'https://www.accenture.com/us-en/careers/local/total-rewards', 'https://www.accenture.com/us-en/careers/explore-careers/areas-of-interest/areas-expertise', 'https://www.accenture.com/nz-en', 'https://www.accenture.com/us-en/industries/utilities-index', 'https://www.accenture.com/us-en/insights/podcast-index', 'https://www.accenture.com/us-en/industries/life-sciences-index', 'https://www.accenture.com/us-en/about/contact-us', 'https://www.accenture.com/sk-en', 'https://www.accenture.com/ca-fr', 'https://www.accenture.com/us-en/case-studies/artificial-intelligence/siam-commercial-banking-data', 'https://www.accenture.com/my-en', 'https://www.accenture.com/au-en', 'https://www.accenture.com/ph-en', 'https://www.accenture.com/us-en/services/talent-organization-human-potential-index', 'https://www.accenture.com/content/acom/us-en/about/location-index.html', 'https://www.accenture.com/us-en/industries/retail-index', 'https://www.accenture.com/bg-en', 'https://www.accenture.com/gb-en', 'https://www.accenture.com/de-de', 'https://www.accenture.com/us-en/about/operations-index', 'https://www.accenture.com/language-masters/en_us/insights/operations/shift-into-hyperdrive', 'https://www.accenture.com/us-en/about/inclusion-diversity-index', 'https://www.accenture.com/at-de', 'https://www.accenture.com/us-en/case-studiesnew/technology/salesforce-clarity-on-the-cloud', 'https://www.accenture.com/th-en', 'https://www.accenture.com/us-en/services/zero-based-budgeting-index', 'https://www.accenture.com/us-en/services/consulting/technology-consulting', 'https://www.accenture.com/cz-en', 'https://www.accenture.com/us-en/insights/blockchain-index', 'https://www.accenture.com/us-en/services/operating-models-index', 'https://www.accenture.com/us-en/about/company/united-states', 'https://www.accenture.com/us-en/about/company/all-stories', 'https://www.accenture.com/us-en/careers/life-at-accenture/experienced', 'https://www.accenture.com/us-en/about/technology-index', 'https://www.accenture.com/pt-pt', 'https://www.accenture.com/us-en/industries/software-and-platforms-index', 'https://www.accenture.com/us-en/careers/explore-careers/area-of-interest/interactive-careers', 'https://www.accenture.com/il-en', 'https://www.accenture.com/us-en/careers/life-at-accenture/training-counseling', 'https://www.accenture.com/us-en/services/technology-innovation-index', 'https://www.accenture.com/us-en/careers/explore-careers/area-of-interest/corporate-functions-careers', 'https://www.accenture.com/us-en/about/strategy-index', 'https://www.accenture.com/us-en/careers/explore-careers/area-of-interest/operations-careers', 'https://www.accenture.com/no-en', 'https://www.accenture.com/us-en/careers/life-at-accenture/entry-level', 'https://www.accenture.com/fi-en', 'https://www.accenture.com/us-en/services/technology/application-services', 'https://www.accenture.com/be-en', 'https://www.accenture.com/dk-en', 'https://www.accenture.com/us-en/case-studies/public-service/caseworker-training-reimagined', 'https://www.accenture.com/us-en/careers/explore-careers/area-of-interest/sap-careers', 'https://www.accenture.com/content/acom/us-en/careers.html', 'https://www.accenture.com/us-en/industries/natural-resources-index', 'https://www.accenture.com/us-en/insights/industry-x-index', 'https://www.accenture.com/us-en/cloud/services-index', 'https://www.accenture.com/us-en/careers/explore-careers/area-of-interest/metaverse-careers', 'https://www.accenture.com/us-en/industries/insurance-index', 'https://www.accenture.com/us-en/careers/explore-careers/area-of-interest/cybersecurity-careers', 'https://www.accenture.com/fr-fr', 'https://www.accenture.com/us-en/case-studies/technology/nurturing-nikkeis-future-talent', 'https://www.accenture.com/us-en/case-studies/technology/nwf-saving-ecosystems', 'https://www.accenture.com/us-en/industries/travel-index', 'https://www.accenture.com/us-en/about/leadership/leadership-index', 'https://www.accenture.com/us-en/support/company-cookies-similar-technology', 'https://www.accenture.com/mu-en', 'https://www.accenture.com/nl-en', 'https://www.accenture.com/us-en/careers/life-at-accenture/leadership-careers', 'https://www.accenture.com/us-en/about/consulting-index', 'https://www.accenture.com/us-en/about/site-map', 'https://www.accenture.com/us-en/services/security-index', 'https://www.accenture.com/us-en/support/terms-of-use', 'https://www.accenture.com/us-en/industries/automotive-index', 'https://www.accenture.com/us-en/industries/communications-and-media-index', 'https://www.accenture.com/mx-es', 'https://www.accenture.com/us-en/careers/registration/register', 'https://www.accenture.com/us-en/case-studies/travel/banyan-tree', 'https://www.accenture.com/us-en/careers/explore-careers/area-of-interest/consulting-careers', 'https://www.accenture.com/ca-en', 'https://www.accenture.com/co-es', 'https://www.accenture.com/us-en/about/privacy-policy', 'https://www.accenture.com/us-en/careers/explore-careers/area-of-interest/ai-and-analytics-careers', 'https://www.accenture.com/us-en/about/industry-x-index', 'https://www.accenture.com/br-pt', 'https://www.accenture.com/us-en/insightsnew/future-workforce-index', 'https://www.accenture.com/gb-en/about/events/sustainability-cop26', 'https://www.accenture.com/us-en/industries/capital-markets-index', 'https://www.accenture.com/us-en/services/mergers-acquisitions-index', 'https://www.accenture.com/us-en/search/results', 'https://www.accenture.com/us-en/insights/technology/technology-trends-2023', 'https://www.accenture.com/us-en/insights/artificial-intelligence-summary-index', 'https://www.accenture.com/us-en/careers', 'https://www.accenture.com/us-en/form-do-not-sell-my-personal-information', 'https://www.accenture.com/se-en', 'https://www.accenture.com/us-en/services/sustainability-index', 'https://www.accenture.com/us-en/careers/local/federal-careers', 'https://www.accenture.com/us-en/industries/afs-index', 'https://www.accenture.com/us-en/careers/explore-careers/area-of-interest/cloud-careers', 'https://www.accenture.com/pl-pl', 'https://www.accenture.com/us-en/industries/chemicals-index', 'https://www.accenture.com/us-en/industries/banking-index', 'https://www.accenture.com/us-en/about/company/integrated-reporting', 'https://www.accenture.com/us-en/about/company-index', 'https://www.accenture.com/us-en/about/accenture-song-index', 'https://www.accenture.com/us-en/insights/cloud-insights', 'https://www.accenture.com/us-en/case-studies/consulting/volkswagen-sustainability-drives-market-cap', 'https://www.accenture.com/ma-en', 'https://www.accenture.com/gr-en', 'https://www.accenture.com/us-en/services/ai-artificial-intelligence-index', 'https://www.accenture.com/us-en/services/digital-engineering-manufacturing-index', 'https://www.accenture.com/us-en/case-studies/technology/transportation-future-hardt-hyperloop', 'https://www.accenture.com/us-en/case-studies/banking/minna-bank', 'https://www.accenture.com/us-en/insights/digital-transformation-index', 'https://www.accenture.com/us-en/case-studies/cloud/arek-oy', 'https://www.accenture.com/in-en', 'https://www.accenture.com/us-en/about/sustainability/sustainability-value-promise', 'https://www.accenture.com/us-en/careers/explore-careers/area-of-interest/atozcareers#jonathan', 'https://www.accenture.com/ie-en', 'https://www.accenture.com/id-en', 'https://www.accenture.com/ae-en', 'https://www.accenture.com/us-en/careers/explore-careers/area-of-interest/salesforce-careers', 'https://www.accenture.com/cr-en', 'https://www.accenture.com/sa-en', 'https://www.accenture.com/us-en/case-studies/song/revel-moments-storytelling-platform', 'https://www.accenture.com/us-en/services/business-process-outsourcing-index', 'https://www.accenture.com/hk-en', 'https://www.accenture.com/lv-en', 'https://www.accenture.com/us-en/careers/jobsearch', 'https://www.accenture.com/content/dam/accenture/final/a-com-migration/pdf/Leadership%20Statement%20_Dec2022%20(1).pdf', 'https://www.accenture.com/sg-en', 'https://www.accenture.com/es-es', 'https://www.accenture.com/us-en/about/company/war-in-ukraine-business-impact', 'https://www.accenture.com/us-en/services/data-analytics-index', 'https://www.accenture.com/us-en/insights/blogs-index', 'https://www.accenture.com/us-en/insights/song/customer-experience-index', 'https://www.accenture.com/us-en/services/intelligent-automation-index', 'https://www.accenture.com/us-en/services/song/commerce-transformation', 'https://www.accenture.com/us-en/cloud/services/infrastructure-index', 'https://www.accenture.com/ro-en', 'https://www.accenture.com/us-en/services/metaverse-index', 'https://www.accenture.com/us-en/industries/consumer-goods-and-services-index', 'https://www.accenture.com/us-en/about/song-company-index', 'https://www.accenture.com/us-en/about/inclusion-diversity/us-workforce', 'https://www.accenture.com/us-en/industries/aerospace-defense-index', 'https://www.accenture.com/us-en/insights/supply-chain-operations/supply-chain-management-operations-index', 'https://www.accenture.com/us-en/careers/explore-careers/area-of-interest/strategy-careers', 'https://www.accenture.com/us-en/industries/health-index', 'https://www.accenture.com/us-en/insights/cyber-security-index', 'https://www.accenture.com/us-en/careers/explore-careers/area-of-interest/industryx-careers', 'https://www.accenture.com/us-en/services/song/marketing-transformation', 'https://www.accenture.com/content/acom/us-en/about/company-index.html', 'https://www.accenture.com/ar-es', 'https://www.accenture.com/cn-en', 'https://www.accenture.com/us-en/insights/metaverse', 'https://www.accenture.com/us-en/industries/industrial-equipment-index'}\n"
     ]
    }
   ],
   "source": [
    "# An url Iterator\n",
    "\n",
    "from urllib.parse import urlparse, urljoin\n",
    "\n",
    "URLS_TO_VISIT = set()\n",
    "\n",
    "INITIAL_DOMAIN = urlparse('https://www.accenture.com/us-en')\n",
    "\n",
    "links = soup.find_all('a')\n",
    "\n",
    "class LinkIterator:\n",
    "    urls_to_visit = []\n",
    "\n",
    "    def __init__(self, url, items):\n",
    "        self.url = url\n",
    "        self.items = items\n",
    "\n",
    "    def __str__(self):\n",
    "        self.get_links()\n",
    "        return str(set(self.urls_to_visit))\n",
    "\n",
    "    def __iter__(self):\n",
    "        self.get_links()\n",
    "        for link in set(self.urls_to_visit):\n",
    "            yield link\n",
    "\n",
    "    def __len__(self):\n",
    "        self.get_links()\n",
    "        return len(self.urls_to_visit)\n",
    "\n",
    "    def get_links(self):\n",
    "        for link in links:\n",
    "            # 1. Skip urls with no \"href\"\n",
    "            if not link.has_attr('href'):\n",
    "                continue\n",
    "\n",
    "            url = link.attrs['href']\n",
    "\n",
    "            # 2. Skip anchors\n",
    "            if url.startswith('#'):\n",
    "                continue\n",
    "            \n",
    "            # Rebuild if is a path\n",
    "            if url.startswith('/'):\n",
    "                url = urljoin(\n",
    "                    INITIAL_DOMAIN.geturl(),\n",
    "                    url\n",
    "                )\n",
    "\n",
    "            # 3. Skip if url has \n",
    "            # different domain\n",
    "            url_object = urlparse(url)\n",
    "            if url_object.netloc != INITIAL_DOMAIN.netloc:\n",
    "                continue\n",
    "\n",
    "            # 4. Skip if url is same \n",
    "            # as initial domain\n",
    "            if url_object == INITIAL_DOMAIN:\n",
    "                continue\n",
    "            \n",
    "            # 5. Skip if \"xml\"\n",
    "            extensions = ['xml']\n",
    "            items = url_object.path.split('.')\n",
    "            if items and len(items) > 1:\n",
    "                _, extension = items\n",
    "                if extension in extensions:\n",
    "                    continue\n",
    "            self.urls_to_visit.append(url_object.geturl())\n",
    "            # URLS_TO_VISIT.add(url_object.geturl())\n",
    "\n",
    "\n",
    "iterator = LinkIterator('http://example.com', links)"
   ]
  },
  {
   "cell_type": "code",
   "execution_count": null,
   "metadata": {},
   "outputs": [],
   "source": []
  }
 ],
 "metadata": {
  "kernelspec": {
   "display_name": "Python 3",
   "language": "python",
   "name": "python3"
  },
  "language_info": {
   "codemirror_mode": {
    "name": "ipython",
    "version": 3
   },
   "file_extension": ".py",
   "mimetype": "text/x-python",
   "name": "python",
   "nbconvert_exporter": "python",
   "pygments_lexer": "ipython3",
   "version": "3.11.0"
  },
  "orig_nbformat": 4
 },
 "nbformat": 4,
 "nbformat_minor": 2
}
